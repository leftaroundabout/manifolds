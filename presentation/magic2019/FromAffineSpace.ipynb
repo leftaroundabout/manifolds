{
 "cells": [
  {
   "cell_type": "code",
   "execution_count": 1,
   "metadata": {
    "collapsed": true
   },
   "outputs": [],
   "source": [
    "{-# LANGUAGE RankNTypes, TypeFamilies, FlexibleContexts #-}\n",
    "import Data.VectorSpace\n",
    "import Data.AffineSpace\n",
    "import Data.Manifold.Types"
   ]
  },
  {
   "cell_type": "code",
   "execution_count": null,
   "metadata": {
    "collapsed": true
   },
   "outputs": [],
   "source": []
  },
  {
   "cell_type": "code",
   "execution_count": 2,
   "metadata": {},
   "outputs": [],
   "source": [
    "type ODESolver\n",
    "   = forall x . ( AffineSpace x, VectorSpace (Diff x)\n",
    "                , Scalar (Diff x) ~ ℝ )\n",
    "       => (x -> Diff x) -- ^ Function to integrate\n",
    "       -> ℝ             -- ^ Time step\n",
    "       -> x             -- ^ Start state\n",
    "       -> [x]           -- ^ Sequence of calculated steps"
   ]
  },
  {
   "cell_type": "code",
   "execution_count": 3,
   "metadata": {
    "collapsed": true
   },
   "outputs": [],
   "source": [
    "euler :: ODESolver\n",
    "euler f h y = y : euler f h (y .+^ h*^f y)"
   ]
  },
  {
   "cell_type": "code",
   "execution_count": 4,
   "metadata": {},
   "outputs": [],
   "source": [
    "rk₄ :: ODESolver\n",
    "rk₄ f h y = y : rk₄ f h (y .+^ (h/6)*^(k₁ ^+^ 2*^k₂ ^+^ 2*^k₃ ^+^ k₄))\n",
    " where k₁ = f y\n",
    "       k₂ = f $ y .+^ (h/2)*^k₁\n",
    "       k₃ = f $ y .+^ (h/2)*^k₂\n",
    "       k₄ = f $ y .+^ h*^k₃"
   ]
  },
  {
   "cell_type": "code",
   "execution_count": 5,
   "metadata": {},
   "outputs": [
    {
     "data": {
      "text/plain": [
       "GraphWindowSpecR2{lBound=-18.277723235168448, rBound=22.059872841157212, bBound=-22.031233945119673, tBound=27.82502109487232, xResolution=640, yResolution=480}"
      ]
     },
     "metadata": {},
     "output_type": "display_data"
    }
   ],
   "source": [
    "import Graphics.Dynamic.Plot.R2\n",
    "import Data.List\n",
    "plotWindow\n",
    "    [ legendName name\n",
    "     $ plotLatest\n",
    "       [ lineSegPlot [(x,y) | (x,y,_) <- segment]\n",
    "       | segment <- take 400 <$> iterate (drop 10) traject ]\n",
    "    | (solver, name) <- [(euler, \"Euler\"), (rk₄,\"RK₄\")]\n",
    "    , let traject = solver (\\(x,y,z) -> (σ*(y-x), x*(ρ-z), x*y - β*z))\n",
    "                           0.002\n",
    "                           (10,11,12)\n",
    "           where ρ=28; σ=10; β=8/3\n",
    "    ]"
   ]
  },
  {
   "cell_type": "code",
   "execution_count": null,
   "metadata": {
    "collapsed": true
   },
   "outputs": [],
   "source": []
  }
 ],
 "metadata": {
  "kernelspec": {
   "display_name": "Haskell",
   "language": "haskell",
   "name": "haskell"
  },
  "language_info": {
   "codemirror_mode": "ihaskell",
   "file_extension": ".hs",
   "name": "haskell",
   "version": "8.2.1"
  }
 },
 "nbformat": 4,
 "nbformat_minor": 2
}
